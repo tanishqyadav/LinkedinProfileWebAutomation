{
 "cells": [
  {
   "cell_type": "code",
   "execution_count": 83,
   "metadata": {},
   "outputs": [],
   "source": [
    "#!pip install bs4\n",
    "#!pip install html5lib\n",
    "\n",
    "#from bs4 import BeautifulSoup\n",
    "#import requests"
   ]
  },
  {
   "cell_type": "code",
   "execution_count": 84,
   "metadata": {},
   "outputs": [],
   "source": [
    "#url = 'https://www.flipkart.com/'\n",
    "#response = requests.get(url)\n",
    "#content = response.content\n",
    "#content"
   ]
  },
  {
   "cell_type": "code",
   "execution_count": 85,
   "metadata": {},
   "outputs": [],
   "source": [
    "#!pip install html5lib"
   ]
  },
  {
   "cell_type": "code",
   "execution_count": 86,
   "metadata": {},
   "outputs": [],
   "source": [
    "#Soup = BeautifulSoup(content,'html.parser')"
   ]
  },
  {
   "cell_type": "code",
   "execution_count": 87,
   "metadata": {},
   "outputs": [],
   "source": [
    "#Soup"
   ]
  },
  {
   "cell_type": "code",
   "execution_count": 88,
   "metadata": {},
   "outputs": [],
   "source": [
    "#ListClass = Soup.findAll('img',{'class': '_1Nyybr _30XEf0' })\n",
    "#len(ListClass)"
   ]
  },
  {
   "cell_type": "code",
   "execution_count": 89,
   "metadata": {},
   "outputs": [],
   "source": [
    "#!pip install selenium "
   ]
  },
  {
   "cell_type": "code",
   "execution_count": 90,
   "metadata": {},
   "outputs": [],
   "source": [
    "from selenium import webdriver\n",
    "import time\n",
    "import random"
   ]
  },
  {
   "cell_type": "code",
   "execution_count": 91,
   "metadata": {},
   "outputs": [],
   "source": [
    "browser = webdriver.Chrome(r'D:\\ChromeDriver\\chromedriver.exe')\n"
   ]
  },
  {
   "cell_type": "code",
   "execution_count": null,
   "metadata": {},
   "outputs": [],
   "source": []
  },
  {
   "cell_type": "code",
   "execution_count": 92,
   "metadata": {},
   "outputs": [],
   "source": [
    "#browser.get('https://www.google.com')\n",
    "\n",
    "#searchBox = browser.find_element_by_name('q')\n",
    "#searchBox.send_keys('Tanishq')\n",
    "\n",
    "#time.sleep(5)\n",
    "\n",
    "#searchButton = browser.find_element_by_name('btnK')\n",
    "#searchButton.click()\n",
    "\n",
    "#time.sleep(10)\n",
    "\n",
    "#wikiLink = browser.find_element_by_partial_link_text('Wiki')\n",
    "#wikiLink.click()"
   ]
  },
  {
   "cell_type": "code",
   "execution_count": null,
   "metadata": {},
   "outputs": [],
   "source": []
  },
  {
   "cell_type": "code",
   "execution_count": 94,
   "metadata": {},
   "outputs": [],
   "source": [
    "browser.get('https://www.linkedin.com/login?fromSignIn=true&trk=guest_homepage-basic_nav-header-signin')\n",
    "\n",
    "username = browser.find_element_by_id('username')\n",
    "username.send_keys('tanishqyadav232428@gmail.com')\n",
    "\n",
    "time.sleep(1)\n",
    "\n",
    "Paswrd = browser.find_element_by_name('session_password')\n",
    "Paswrd.send_keys('2*2#4%8$2')\n",
    "\n",
    "time.sleep(1)\n",
    "\n",
    "\n",
    "loginButton = browser.find_element_by_xpath('/html/body/div/main/div[2]/form/div[4]/button')\n",
    "loginButton.click()\n",
    "\n",
    "time.sleep(2)\n",
    "\n",
    "likeButton = browser.get('https://www.linkedin.com/mynetwork/')\n",
    "#loginButton.click()\n",
    "\n",
    "time.sleep(3)\n"
   ]
  },
  {
   "cell_type": "code",
   "execution_count": null,
   "metadata": {},
   "outputs": [],
   "source": []
  },
  {
   "cell_type": "code",
   "execution_count": null,
   "metadata": {},
   "outputs": [],
   "source": []
  },
  {
   "cell_type": "code",
   "execution_count": null,
   "metadata": {},
   "outputs": [],
   "source": []
  },
  {
   "cell_type": "code",
   "execution_count": null,
   "metadata": {},
   "outputs": [],
   "source": []
  },
  {
   "cell_type": "code",
   "execution_count": null,
   "metadata": {},
   "outputs": [],
   "source": []
  },
  {
   "cell_type": "code",
   "execution_count": null,
   "metadata": {},
   "outputs": [],
   "source": []
  },
  {
   "cell_type": "code",
   "execution_count": null,
   "metadata": {},
   "outputs": [],
   "source": []
  },
  {
   "cell_type": "code",
   "execution_count": null,
   "metadata": {},
   "outputs": [],
   "source": []
  },
  {
   "cell_type": "code",
   "execution_count": null,
   "metadata": {},
   "outputs": [],
   "source": []
  },
  {
   "cell_type": "code",
   "execution_count": null,
   "metadata": {},
   "outputs": [],
   "source": []
  }
 ],
 "metadata": {
  "kernelspec": {
   "display_name": "Python 3",
   "language": "python",
   "name": "python3"
  },
  "language_info": {
   "codemirror_mode": {
    "name": "ipython",
    "version": 3
   },
   "file_extension": ".py",
   "mimetype": "text/x-python",
   "name": "python",
   "nbconvert_exporter": "python",
   "pygments_lexer": "ipython3",
   "version": "3.6.4"
  }
 },
 "nbformat": 4,
 "nbformat_minor": 4
}
